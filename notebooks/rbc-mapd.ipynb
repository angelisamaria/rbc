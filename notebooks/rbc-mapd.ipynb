{
 "cells": [
  {
   "cell_type": "code",
   "execution_count": 1,
   "metadata": {},
   "outputs": [],
   "source": [
    "from rbc.mapd import RemoteMapD"
   ]
  },
  {
   "cell_type": "code",
   "execution_count": 2,
   "metadata": {},
   "outputs": [],
   "source": [
    "mapd = RemoteMapD()  # RemoteMapD(user=, password=, host=, port=, dbname=)"
   ]
  },
  {
   "cell_type": "code",
   "execution_count": 5,
   "metadata": {},
   "outputs": [],
   "source": [
    "@mapd('i(i,i)', 'd(d,d)')\n",
    "def add(x, y):\n",
    "    return x + y"
   ]
  },
  {
   "cell_type": "code",
   "execution_count": 6,
   "metadata": {},
   "outputs": [
    {
     "data": {
      "text/plain": [
       "[(-9187559.0, 3245881.75, -5941677.25),\n",
       " (-9187559.0, 3245881.75, -5941677.25),\n",
       " (-8534665.0, 4746827.5, -3787837.5),\n",
       " (-8534665.0, 4746827.5, -3787837.5),\n",
       " (-8534665.0, 4746827.5, -3787837.5),\n",
       " (-9093451.0, 3567215.5, -5526235.5),\n",
       " (-12818699.0, 4311684.5, -8507014.5),\n",
       " (-12818699.0, 4311684.5, -8507014.5),\n",
       " (-10543504.0, 4764391.0, -5779113.0),\n",
       " (-10543504.0, 4764391.0, -5779113.0)]"
      ]
     },
     "execution_count": 6,
     "metadata": {},
     "output_type": "execute_result"
    }
   ],
   "source": [
    "descr, result = mapd.sql_execute(\n",
    "    'select dest_merc_x, dest_merc_y, add_daddA(dest_merc_x, dest_merc_y)'\n",
    "    'from flights_2008_10k limit 10')\n",
    "\n",
    "list(result)"
   ]
  },
  {
   "cell_type": "code",
   "execution_count": null,
   "metadata": {},
   "outputs": [],
   "source": []
  }
 ],
 "metadata": {
  "kernelspec": {
   "display_name": "Python [conda env:rbc-dev] *",
   "language": "python",
   "name": "conda-env-rbc-dev-py"
  },
  "language_info": {
   "codemirror_mode": {
    "name": "ipython",
    "version": 3
   },
   "file_extension": ".py",
   "mimetype": "text/x-python",
   "name": "python",
   "nbconvert_exporter": "python",
   "pygments_lexer": "ipython3",
   "version": "3.7.1"
  }
 },
 "nbformat": 4,
 "nbformat_minor": 2
}
