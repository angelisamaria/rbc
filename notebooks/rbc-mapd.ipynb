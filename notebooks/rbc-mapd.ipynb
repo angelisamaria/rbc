{
 "cells": [
  {
   "cell_type": "code",
   "execution_count": 1,
   "metadata": {},
   "outputs": [],
   "source": [
    "from rbc.mapd import RemoteMapD"
   ]
  },
  {
   "cell_type": "code",
   "execution_count": 2,
   "metadata": {},
   "outputs": [],
   "source": [
    "mapd = RemoteMapD()  # RemoteMapD(user=, password=, host=, port=, dbname=)"
   ]
  },
  {
   "cell_type": "code",
   "execution_count": 14,
   "metadata": {},
   "outputs": [
    {
     "data": {
      "text/plain": [
       "[(0.0, 0.0, 0, 0),\n",
       " (1.0, 1.0, 1, 1),\n",
       " (2.0, 2.0, 2, 2),\n",
       " (3.0, 3.0, 3, 3),\n",
       " (4.0, 4.0, 4, 4)]"
      ]
     },
     "execution_count": 14,
     "metadata": {},
     "output_type": "execute_result"
    }
   ],
   "source": [
    "mapd.sql_execute('drop table if exists mytable')\n",
    "mapd.sql_execute('create table if not exists mytable (x FLOAT, y DOUBLE, i INT, j BIGINT);');\n",
    "for i in range(5):\n",
    "    mapd.sql_execute('insert into mytable values '+str((i,)*4));\n",
    "list(mapd.sql_execute('select * from mytable')[1])"
   ]
  },
  {
   "cell_type": "code",
   "execution_count": 11,
   "metadata": {},
   "outputs": [],
   "source": [
    "# Overloading UDFs\n",
    "@mapd('f32(f32)', 'f64(f64)')\n",
    "def incr(v):\n",
    "    return v + 1\n",
    "@mapd('i32(i32)', 'i64(i64)')\n",
    "def incr(v):\n",
    "    return v + 10"
   ]
  },
  {
   "cell_type": "code",
   "execution_count": 12,
   "metadata": {},
   "outputs": [
    {
     "data": {
      "text/plain": [
       "[(1.0, 2.0, 10, 20),\n",
       " (2.0, 3.0, 11, 21),\n",
       " (3.0, 4.0, 12, 22),\n",
       " (4.0, 5.0, 13, 23),\n",
       " (5.0, 6.0, 14, 24)]"
      ]
     },
     "execution_count": 12,
     "metadata": {},
     "output_type": "execute_result"
    }
   ],
   "source": [
    "descr, result = mapd.sql_execute(\n",
    "    'select incr(x), incr(incr(y)), incr(i), incr(incr(j))'\n",
    "    'from mytable')\n",
    "\n",
    "list(result)"
   ]
  },
  {
   "cell_type": "code",
   "execution_count": null,
   "metadata": {},
   "outputs": [],
   "source": []
  }
 ],
 "metadata": {
  "kernelspec": {
   "display_name": "Python [conda env:rbc-dev] *",
   "language": "python",
   "name": "conda-env-rbc-dev-py"
  },
  "language_info": {
   "codemirror_mode": {
    "name": "ipython",
    "version": 3
   },
   "file_extension": ".py",
   "mimetype": "text/x-python",
   "name": "python",
   "nbconvert_exporter": "python",
   "pygments_lexer": "ipython3",
   "version": "3.7.1"
  }
 },
 "nbformat": 4,
 "nbformat_minor": 2
}
