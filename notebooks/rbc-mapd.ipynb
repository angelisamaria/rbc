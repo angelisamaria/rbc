{
 "cells": [
  {
   "cell_type": "code",
   "execution_count": 1,
   "metadata": {},
   "outputs": [],
   "source": [
    "from rbc.mapd import RemoteMapD"
   ]
  },
  {
   "cell_type": "code",
   "execution_count": 2,
   "metadata": {},
   "outputs": [],
   "source": [
    "mapd = RemoteMapD()  # RemoteMapD(user=, password=, host=, port=, dbname=)"
   ]
  },
  {
   "cell_type": "code",
   "execution_count": 3,
   "metadata": {},
   "outputs": [],
   "source": [
    "@mapd('i(i,i)', 'd(d,d)')\n",
    "def add(x, y):\n",
    "    return x + y"
   ]
  },
  {
   "cell_type": "code",
   "execution_count": 4,
   "metadata": {},
   "outputs": [
    {
     "data": {
      "text/plain": [
       "'4.6.0dev-20190321-354a8deaa2'"
      ]
     },
     "execution_count": 4,
     "metadata": {},
     "output_type": "execute_result"
    }
   ],
   "source": [
    "add.get_MapD_version()"
   ]
  },
  {
   "cell_type": "code",
   "execution_count": 5,
   "metadata": {},
   "outputs": [],
   "source": [
    "descr, result = add.sql_execute('select dest_merc_x, dest_merc_y from flights_2008_10k limit 10')"
   ]
  },
  {
   "cell_type": "code",
   "execution_count": 6,
   "metadata": {},
   "outputs": [
    {
     "data": {
      "text/plain": [
       "[(-9187559.0, 3245881.75),\n",
       " (-9187559.0, 3245881.75),\n",
       " (-8534665.0, 4746827.5),\n",
       " (-8534665.0, 4746827.5),\n",
       " (-8534665.0, 4746827.5),\n",
       " (-9093451.0, 3567215.5),\n",
       " (-12818699.0, 4311684.5),\n",
       " (-12818699.0, 4311684.5),\n",
       " (-10543504.0, 4764391.0),\n",
       " (-10543504.0, 4764391.0)]"
      ]
     },
     "execution_count": 6,
     "metadata": {},
     "output_type": "execute_result"
    }
   ],
   "source": [
    "list(result)"
   ]
  },
  {
   "cell_type": "code",
   "execution_count": 7,
   "metadata": {},
   "outputs": [],
   "source": [
    "add.register()"
   ]
  },
  {
   "cell_type": "code",
   "execution_count": 8,
   "metadata": {},
   "outputs": [
    {
     "name": "stdout",
     "output_type": "stream",
     "text": [
      "\tat org.apache.thrift.server.TThreadPoolServer$WorkerProcess.run(TThreadPoolServer.java:310)\r\n",
      "\tat java.base/java.util.concurrent.ThreadPoolExecutor.runWorker(ThreadPoolExecutor.java:1128)\r\n",
      "\tat java.base/java.util.concurrent.ThreadPoolExecutor$Worker.run(ThreadPoolExecutor.java:628)\r\n",
      "\tat java.base/java.lang.Thread.run(Thread.java:834)\r\n",
      "register_function:\r\n",
      "    add_iaiiA\r\n",
      "    add_daddA\r\n",
      "-------- START IR ----------\r\n",
      "; ModuleID = 'add'\r\n",
      "source_filename = \"<ipython-input-3-bc279d7a5c76>\"\r\n",
      "target datalayout = \"e-m:e-i64:64-f80:128-n8:16:32:64-S128\"\r\n",
      "target triple = \"x86_64-unknown-linux-gnu\"\r\n",
      "\r\n",
      "@\"_ZN08NumbaEnv8__main__7add$241Eii\" = common local_unnamed_addr global i8* null\r\n",
      "@\"_ZN08NumbaEnv8__main__7add$242Edd\" = common local_unnamed_addr global i8* null\r\n",
      "\r\n",
      "; Function Attrs: norecurse nounwind\r\n",
      "define i32 @\"_ZN8__main__7add$241Eii\"(i32* noalias nocapture %retptr, { i8*, i32 }** noalias nocapture readnone %excinfo, i32 %arg.x, i32 %arg.y) local_unnamed_addr #0 {\r\n",
      "entry:\r\n",
      "  %.18 = add i32 %arg.y, %arg.x\r\n",
      "  store i32 %.18, i32* %retptr, align 4\r\n",
      "  ret i32 0\r\n",
      "}\r\n",
      "\r\n",
      "; Function Attrs: norecurse nounwind readnone\r\n",
      "define i32 @add_iaiiA(i32 %.1, i32 %.2) local_unnamed_addr #1 {\r\n",
      "entry:\r\n",
      "  %.18.i = add i32 %.2, %.1\r\n",
      "  ret i32 %.18.i\r\n",
      "}\r\n",
      "\r\n",
      "; Function Attrs: norecurse nounwind\r\n",
      "define i32 @\"_ZN8__main__7add$242Edd\"(double* noalias nocapture %retptr, { i8*, i32 }** noalias nocapture readnone %excinfo, double %arg.x, double %arg.y) local_unnamed_addr #0 {\r\n",
      "entry:\r\n",
      "  %.16 = fadd double %arg.x, %arg.y\r\n",
      "  store double %.16, double* %retptr, align 8\r\n",
      "  ret i32 0\r\n",
      "}\r\n",
      "\r\n",
      "; Function Attrs: norecurse nounwind readnone\r\n",
      "define double @add_daddA(double %.1, double %.2) local_unnamed_addr #1 {\r\n",
      "entry:\r\n",
      "  %.16.i = fadd double %.1, %.2\r\n",
      "  ret double %.16.i\r\n",
      "}\r\n",
      "\r\n",
      "attributes #0 = { norecurse nounwind }\r\n",
      "attributes #1 = { norecurse nounwind readnone }\r\n",
      "-------- END IR ----------\r\n",
      "\r\n"
     ]
    }
   ],
   "source": [
    "# running `bin/mapd_server  > out 2> err`\n",
    "!tail -n 50  /home/pearu/git/Quansight/mapd-core-internal/build/out"
   ]
  },
  {
   "cell_type": "code",
   "execution_count": 73,
   "metadata": {},
   "outputs": [],
   "source": [
    "# The goal:\n",
    "#descr, result = add.sql_execute('select add_daddA(dest_merc_x, dest_merc_y) from flights_2008_10k limit 10')"
   ]
  },
  {
   "cell_type": "code",
   "execution_count": null,
   "metadata": {},
   "outputs": [],
   "source": []
  }
 ],
 "metadata": {
  "kernelspec": {
   "display_name": "Python [conda env:rbc-dev] *",
   "language": "python",
   "name": "conda-env-rbc-dev-py"
  },
  "language_info": {
   "codemirror_mode": {
    "name": "ipython",
    "version": 3
   },
   "file_extension": ".py",
   "mimetype": "text/x-python",
   "name": "python",
   "nbconvert_exporter": "python",
   "pygments_lexer": "ipython3",
   "version": "3.7.1"
  }
 },
 "nbformat": 4,
 "nbformat_minor": 2
}
