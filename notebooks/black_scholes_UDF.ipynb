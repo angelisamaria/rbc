{
 "cells": [
  {
   "cell_type": "markdown",
   "metadata": {},
   "source": [
    "# Example of omniscidb UDF/UDTF: Black-Scholes Model"
   ]
  },
  {
   "cell_type": "markdown",
   "metadata": {},
   "source": [
    "The aim of this notebook is to demonstrate how one can enhance OmniSciDB capabilities with UDF (User-Defined Functions) and UDTF (User-Defined Table Functions). For that end, we will demonstrate how one can create, register and invoke UDFs/UDTFs using [RBC](https://github.com/xnd-project/rbc) and [Numba](https://github.com/numba/numba)."
   ]
  },
  {
   "cell_type": "markdown",
   "metadata": {},
   "source": [
    "## Black-Scholes Model"
   ]
  },
  {
   "cell_type": "markdown",
   "metadata": {},
   "source": [
    "The Black-Scholes model describes the price of an option over time. "
   ]
  },
  {
   "cell_type": "markdown",
   "metadata": {},
   "source": [
    "$C(S_t, t) = N(d_1)S - N(d_2)PV(K)$"
   ]
  },
  {
   "cell_type": "markdown",
   "metadata": {},
   "source": [
    "$d_1 = \\frac{1}{\\sigma \\sqrt{T - t}} [\\ln(\\frac{S}{K}) + (r + \\frac{\\sigma^2}{2}) + (T - t)]$"
   ]
  },
  {
   "cell_type": "markdown",
   "metadata": {},
   "source": [
    "$d_2 = d_1 - \\sigma \\sqrt{T-t}$"
   ]
  },
  {
   "cell_type": "markdown",
   "metadata": {},
   "source": [
    "$PV(K) = Ke^{-r(T-t)}$"
   ]
  },
  {
   "cell_type": "markdown",
   "metadata": {},
   "source": [
    "Where\n",
    "* $N$ is the [cummulative distribution function (CDF)](https://en.wikipedia.org/wiki/Cumulative_distribution_function)\n",
    "* $T-t$ is the time to maturity\n",
    "* $S$ is the [spot price](https://en.wikipedia.org/wiki/Spot_price)\n",
    "* $K$ is the strike price\n",
    "* $r$ is the [risk-free rate](https://en.wikipedia.org/wiki/Risk_free_rate)\n",
    "* $\\sigma$ is the [volatity](https://en.wikipedia.org/wiki/Volatility_(finance)) of returns of the underlying asset"
   ]
  },
  {
   "cell_type": "markdown",
   "metadata": {},
   "source": [
    "## Connecting to the OmniSciDB server"
   ]
  },
  {
   "cell_type": "markdown",
   "metadata": {},
   "source": [
    "Let's establish a connection to the OmniSciDB server"
   ]
  },
  {
   "cell_type": "code",
   "execution_count": 4,
   "metadata": {},
   "outputs": [],
   "source": [
    "import warnings; warnings.filterwarnings('ignore')"
   ]
  },
  {
   "cell_type": "code",
   "execution_count": 26,
   "metadata": {},
   "outputs": [
    {
     "name": "stdout",
     "output_type": "stream",
     "text": [
      "Connecting to OmnisciDB version (5, 4, 0, 'dev-20200824-5b46cd667f')\n"
     ]
    }
   ],
   "source": [
    "from rbc.omniscidb import RemoteOmnisci\n",
    "omnisci = RemoteOmnisci(user='admin', password='HyperInteractive',\n",
    "                     host='127.0.0.1', port=6274, dbname='omnisci')\n",
    "print(f'Connecting to OmnisciDB version {omnisci.version}')\n",
    "assert omnisci.version[:3] >= (5, 4, 0), omnisci.version"
   ]
  },
  {
   "cell_type": "markdown",
   "metadata": {},
   "source": [
    "This notebook requires OmnisciDB version 5.4 or newer. If the above fails or one is connected to older version of OmnisciDB, please resolve the issue before continuing."
   ]
  },
  {
   "cell_type": "markdown",
   "metadata": {},
   "source": [
    "## Test Data"
   ]
  },
  {
   "cell_type": "markdown",
   "metadata": {},
   "source": [
    "For this notebook, we will simulate a financial model called [black-scholes](https://en.wikipedia.org/wiki/Black%E2%80%93Scholes_model). For that, we will be using data from the following website:\n",
    "- http://www.scientific-consultants.com/nnbd.html"
   ]
  },
  {
   "cell_type": "markdown",
   "metadata": {},
   "source": [
    "Read and adjust the test data"
   ]
  },
  {
   "cell_type": "code",
   "execution_count": 31,
   "metadata": {},
   "outputs": [
    {
     "data": {
      "text/html": [
       "<div>\n",
       "<style scoped>\n",
       "    .dataframe tbody tr th:only-of-type {\n",
       "        vertical-align: middle;\n",
       "    }\n",
       "\n",
       "    .dataframe tbody tr th {\n",
       "        vertical-align: top;\n",
       "    }\n",
       "\n",
       "    .dataframe thead th {\n",
       "        text-align: right;\n",
       "    }\n",
       "</style>\n",
       "<table border=\"1\" class=\"dataframe\">\n",
       "  <thead>\n",
       "    <tr style=\"text-align: right;\">\n",
       "      <th></th>\n",
       "      <th>FCTNO</th>\n",
       "      <th>VLTY</th>\n",
       "      <th>TIME</th>\n",
       "      <th>STRIKE</th>\n",
       "      <th>OPRICE</th>\n",
       "      <th>S</th>\n",
       "      <th>r</th>\n",
       "    </tr>\n",
       "  </thead>\n",
       "  <tbody>\n",
       "    <tr>\n",
       "      <th>1525</th>\n",
       "      <td>1526</td>\n",
       "      <td>2.0</td>\n",
       "      <td>0.12</td>\n",
       "      <td>121.0</td>\n",
       "      <td>12.3662</td>\n",
       "      <td>100.0</td>\n",
       "      <td>0.0</td>\n",
       "    </tr>\n",
       "    <tr>\n",
       "      <th>1526</th>\n",
       "      <td>1527</td>\n",
       "      <td>2.0</td>\n",
       "      <td>0.12</td>\n",
       "      <td>122.0</td>\n",
       "      <td>12.1061</td>\n",
       "      <td>100.0</td>\n",
       "      <td>0.0</td>\n",
       "    </tr>\n",
       "    <tr>\n",
       "      <th>1527</th>\n",
       "      <td>1528</td>\n",
       "      <td>2.0</td>\n",
       "      <td>0.12</td>\n",
       "      <td>123.0</td>\n",
       "      <td>11.8515</td>\n",
       "      <td>100.0</td>\n",
       "      <td>0.0</td>\n",
       "    </tr>\n",
       "    <tr>\n",
       "      <th>1528</th>\n",
       "      <td>1529</td>\n",
       "      <td>2.0</td>\n",
       "      <td>0.12</td>\n",
       "      <td>124.0</td>\n",
       "      <td>11.6021</td>\n",
       "      <td>100.0</td>\n",
       "      <td>0.0</td>\n",
       "    </tr>\n",
       "    <tr>\n",
       "      <th>1529</th>\n",
       "      <td>1530</td>\n",
       "      <td>2.0</td>\n",
       "      <td>0.12</td>\n",
       "      <td>125.0</td>\n",
       "      <td>11.3580</td>\n",
       "      <td>100.0</td>\n",
       "      <td>0.0</td>\n",
       "    </tr>\n",
       "  </tbody>\n",
       "</table>\n",
       "</div>"
      ],
      "text/plain": [
       "      FCTNO  VLTY  TIME  STRIKE   OPRICE      S    r\n",
       "1525   1526   2.0  0.12   121.0  12.3662  100.0  0.0\n",
       "1526   1527   2.0  0.12   122.0  12.1061  100.0  0.0\n",
       "1527   1528   2.0  0.12   123.0  11.8515  100.0  0.0\n",
       "1528   1529   2.0  0.12   124.0  11.6021  100.0  0.0\n",
       "1529   1530   2.0  0.12   125.0  11.3580  100.0  0.0"
      ]
     },
     "execution_count": 31,
     "metadata": {},
     "output_type": "execute_result"
    }
   ],
   "source": [
    "import pandas as pd\n",
    "\n",
    "# Data taken from\n",
    "# http://www.scientific-consultants.com/nnbd.html\n",
    "df = pd.read_csv('data_black_scholes.csv', sep=',')\n",
    "df['S'] = 100.0\n",
    "df['r'] = 0.0\n",
    "df['TIME'] = df['TIME'] / 125\n",
    "df.tail()"
   ]
  },
  {
   "cell_type": "markdown",
   "metadata": {},
   "source": [
    "### Create a table named \"black_scholes\" in the database"
   ]
  },
  {
   "cell_type": "code",
   "execution_count": 34,
   "metadata": {},
   "outputs": [
    {
     "name": "stdout",
     "output_type": "stream",
     "text": [
      "create table \"black_scholes\"\n"
     ]
    }
   ],
   "source": [
    "SQL=lambda query: list(omnisci.sql_execute(query)[1])\n",
    "SQL('drop table if exists black_scholes')\n",
    "SQL('create table if not exists black_scholes ('\n",
    "    ' S DOUBLE, X DOUBLE, T DOUBLE, r DOUBLE,'\n",
    "    ' sigma DOUBLE, OPRICE DOUBLE);')\n",
    "print('create table \"black_scholes\"')"
   ]
  },
  {
   "cell_type": "markdown",
   "metadata": {},
   "source": [
    "Insert data into the database"
   ]
  },
  {
   "cell_type": "code",
   "execution_count": 35,
   "metadata": {},
   "outputs": [],
   "source": [
    "S = df['S']\n",
    "X = df['STRIKE']\n",
    "T = df['TIME']\n",
    "r = df['r']\n",
    "sigma = df['VLTY']\n",
    "OPRICE = df['OPRICE']\n",
    "omnisci.load_table_columnar('black_scholes', S=S, X=X, T=T, r=r, sigma=sigma, OPRICE=OPRICE)"
   ]
  },
  {
   "cell_type": "markdown",
   "metadata": {},
   "source": [
    "Verify that the table **black_scholes** contains the data"
   ]
  },
  {
   "cell_type": "code",
   "execution_count": 36,
   "metadata": {},
   "outputs": [
    {
     "data": {
      "text/html": [
       "<div>\n",
       "<style scoped>\n",
       "    .dataframe tbody tr th:only-of-type {\n",
       "        vertical-align: middle;\n",
       "    }\n",
       "\n",
       "    .dataframe tbody tr th {\n",
       "        vertical-align: top;\n",
       "    }\n",
       "\n",
       "    .dataframe thead th {\n",
       "        text-align: right;\n",
       "    }\n",
       "</style>\n",
       "<table border=\"1\" class=\"dataframe\">\n",
       "  <thead>\n",
       "    <tr style=\"text-align: right;\">\n",
       "      <th></th>\n",
       "      <th>STRIKE</th>\n",
       "      <th>TIME</th>\n",
       "      <th>VLTY</th>\n",
       "      <th>OPRICE</th>\n",
       "    </tr>\n",
       "  </thead>\n",
       "  <tbody>\n",
       "    <tr>\n",
       "      <th>0</th>\n",
       "      <td>75.0</td>\n",
       "      <td>0.04</td>\n",
       "      <td>0.2</td>\n",
       "      <td>25.0</td>\n",
       "    </tr>\n",
       "    <tr>\n",
       "      <th>1</th>\n",
       "      <td>76.0</td>\n",
       "      <td>0.04</td>\n",
       "      <td>0.2</td>\n",
       "      <td>24.0</td>\n",
       "    </tr>\n",
       "    <tr>\n",
       "      <th>2</th>\n",
       "      <td>77.0</td>\n",
       "      <td>0.04</td>\n",
       "      <td>0.2</td>\n",
       "      <td>23.0</td>\n",
       "    </tr>\n",
       "    <tr>\n",
       "      <th>3</th>\n",
       "      <td>78.0</td>\n",
       "      <td>0.04</td>\n",
       "      <td>0.2</td>\n",
       "      <td>22.0</td>\n",
       "    </tr>\n",
       "    <tr>\n",
       "      <th>4</th>\n",
       "      <td>79.0</td>\n",
       "      <td>0.04</td>\n",
       "      <td>0.2</td>\n",
       "      <td>21.0</td>\n",
       "    </tr>\n",
       "  </tbody>\n",
       "</table>\n",
       "</div>"
      ],
      "text/plain": [
       "   STRIKE  TIME  VLTY  OPRICE\n",
       "0    75.0  0.04   0.2    25.0\n",
       "1    76.0  0.04   0.2    24.0\n",
       "2    77.0  0.04   0.2    23.0\n",
       "3    78.0  0.04   0.2    22.0\n",
       "4    79.0  0.04   0.2    21.0"
      ]
     },
     "execution_count": 36,
     "metadata": {},
     "output_type": "execute_result"
    }
   ],
   "source": [
    "result = SQL('SELECT X, T, sigma, OPRICE FROM black_scholes LIMIT 5;')\n",
    "pd.DataFrame(result, columns=['STRIKE', 'TIME', 'VLTY', 'OPRICE'])"
   ]
  },
  {
   "cell_type": "code",
   "execution_count": 43,
   "metadata": {},
   "outputs": [
    {
     "name": "stdout",
     "output_type": "stream",
     "text": [
      "Number of rows: (1530,)\n"
     ]
    }
   ],
   "source": [
    "result = SQL('SELECT COUNT(*) FROM black_scholes;')\n",
    "print(f'Number of rows: {result[0]}')"
   ]
  },
  {
   "cell_type": "markdown",
   "metadata": {},
   "source": [
    "## Why use UDF/UDTF?"
   ]
  },
  {
   "cell_type": "markdown",
   "metadata": {},
   "source": [
    "For large datasets, retrieving the data from the server might not be viable due to hardware and/or network limitation. In those cases, makes sense to do the computation in the server rather than locally."
   ]
  },
  {
   "cell_type": "markdown",
   "metadata": {},
   "source": [
    "OmnisciDB server v5.4 implements support for users to define UDFs and UDTFs. The former applies a function to a table data row-by-row while the latter is applied to an entire column."
   ]
  },
  {
   "cell_type": "markdown",
   "metadata": {},
   "source": [
    "The UDFs and table functions can be defined as Python functions using the [RBC](https://github.com/xnd-project/rbc/) tool that exploits [Numba](https://github.com/numba/numba) to convert Python functions to [LLVM intermediate representation](https://en.wikipedia.org/wiki/LLVM) and these are registered in the OmnisciDB server."
   ]
  },
  {
   "cell_type": "markdown",
   "metadata": {},
   "source": [
    "## Compute the black-scholes model remotely using OmnisciDB UDFs"
   ]
  },
  {
   "cell_type": "markdown",
   "metadata": {},
   "source": [
    "The following cells will register a function to be called from inside omniscidb"
   ]
  },
  {
   "cell_type": "code",
   "execution_count": 12,
   "metadata": {},
   "outputs": [],
   "source": [
    "import numba\n",
    "import math\n",
    "from rbc import omnisci_backend as np"
   ]
  },
  {
   "cell_type": "markdown",
   "metadata": {},
   "source": [
    "The `@numba.njit` decorator register the `cnd_numba` function so that it can be called by other UDFs/UDTFs functions"
   ]
  },
  {
   "cell_type": "code",
   "execution_count": 13,
   "metadata": {},
   "outputs": [],
   "source": [
    "@numba.njit\n",
    "def cnd_numba(d):\n",
    "    A1 = 0.31938153\n",
    "    A2 = -0.356563782\n",
    "    A3 = 1.781477937\n",
    "    A4 = -1.821255978\n",
    "    A5 = 1.330274429\n",
    "    RSQRT2PI = 0.39894228040143267793994605993438\n",
    "    K = 1.0 / (1.0 + 0.2316419 * math.fabs(d))\n",
    "    ret_val = (RSQRT2PI * math.exp(-0.5 * d * d) *\n",
    "               (K * (A1 + K * (A2 + K * (A3 + K * (A4 + K * A5))))))\n",
    "    if d > 0:\n",
    "        ret_val = 1.0 - ret_val\n",
    "    return ret_val"
   ]
  },
  {
   "cell_type": "markdown",
   "metadata": {},
   "source": [
    "Register the UDT function as a new SQL function in OmnisciDB server. Notice the `@omnisci` decorator takes the signature of the function as argument:\n",
    "- `@omnisci(signature)` or\n",
    "- `@omnisci([list_of_signatures])`\n",
    "\n",
    "In the example below, `black_scholes_UDT` accepts five `double`s an returns a `double`."
   ]
  },
  {
   "cell_type": "code",
   "execution_count": 45,
   "metadata": {},
   "outputs": [],
   "source": [
    "# register a UDTF as a new SQL function in OmnisciDB server \n",
    "@omnisci('double(double, double, double, double, double)')\n",
    "def black_scholes_UDF(S, X, T, r, sigma):\n",
    "    d1 = (np.log(S/X) + (r + 0.5 * sigma**2)*T) / (sigma * np.sqrt(T))\n",
    "    d2 = d1 - sigma * np.sqrt(T)\n",
    "    \n",
    "    cndd1 = cnd_numba(d1)\n",
    "    cndd2 = cnd_numba(d2)\n",
    "\n",
    "    expRT = math.exp((-1. * r) * T)\n",
    "    \n",
    "    callResult = (S * cndd1 - X * expRT * cndd2)\n",
    "    return callResult"
   ]
  },
  {
   "cell_type": "markdown",
   "metadata": {},
   "source": [
    "Call the UDF function in OmnisciDB sql query"
   ]
  },
  {
   "cell_type": "code",
   "execution_count": 46,
   "metadata": {},
   "outputs": [
    {
     "name": "stdout",
     "output_type": "stream",
     "text": [
      "Expected = 25.00, UDF Model output = 25.00\n",
      "Expected = 24.00, UDF Model output = 24.00\n",
      "Expected = 23.00, UDF Model output = 23.00\n",
      "Expected = 22.00, UDF Model output = 22.00\n",
      "Expected = 21.00, UDF Model output = 21.00\n"
     ]
    }
   ],
   "source": [
    "result = SQL('SELECT OPRICE,'\n",
    "             ' black_scholes_UDF(S, X, T, r, sigma) FROM black_scholes;')\n",
    "\n",
    "for expected, output in result[:5]:\n",
    "    print(f'Expected = {expected:.2f}, UDF Model output = {output:.2f}')"
   ]
  },
  {
   "cell_type": "markdown",
   "metadata": {},
   "source": [
    "As expected, the model was computed in the server using the code in `black_scholes_UDF` "
   ]
  },
  {
   "cell_type": "markdown",
   "metadata": {},
   "source": [
    "## Compute the black-scholes model remotely using OmnisciDB UDTFs"
   ]
  },
  {
   "cell_type": "markdown",
   "metadata": {},
   "source": [
    "In a UDTF function, a column argument is specified as `Column<type>` (i.e. `Column<int32>`). The last two arguments of every table function (`int64|sizer=RowMultiplier` and `OutputColumn<double>`) define how the size of the output column is computed and the output column itself. For instance, if `sizer=1`, then the `outColumn` has the same number of rows as the input columns. If `sizer=2`, then, the output column is twice as big as the input columns. One must always specify those arguments when writing a UDTF.\n",
    "\n",
    "In the example below, `black_scholes_UDTF` receives five double column arguments (`Column<double>`), an `int64` for the the sizer and the output column has type `double`. The output (`int32`) in always the number of rows actually set."
   ]
  },
  {
   "cell_type": "code",
   "execution_count": 48,
   "metadata": {},
   "outputs": [],
   "source": [
    "omnisci.reset()\n",
    "\n",
    "@omnisci('int32(Column<double>, Column<double>, Column<double>, Column<double>, Column<double>,'\n",
    "         ' int64|sizer=RowMultiplier, OutputColumn<double>)')\n",
    "def black_scholes_udtf(S, X, T, r, sigma, m, out):\n",
    "    input_row_count = len(X)\n",
    "\n",
    "    for i in range(input_row_count):\n",
    "        d1 = (np.log(S[i]/X[i]) + (r[i] + 0.5 * sigma[i]**2)*T[i]) / (sigma[i] * np.sqrt(T[i]))\n",
    "        out[i] = S[i] + X[i] + T[i] + r[i] + sigma[i]\n",
    "        d2 = d1 - sigma[i] * np.sqrt(T[i])\n",
    "\n",
    "        cndd1 = cnd_numba(d1)\n",
    "        cndd2 = cnd_numba(d2)\n",
    "\n",
    "        expRT = math.exp((-1. * r[i]) * T[i])\n",
    "\n",
    "        out[i] = (S[i] * cndd1 - X[i] * expRT * cndd2)\n",
    "\n",
    "    return m * input_row_count"
   ]
  },
  {
   "cell_type": "code",
   "execution_count": 50,
   "metadata": {},
   "outputs": [
    {
     "name": "stdout",
     "output_type": "stream",
     "text": [
      "Expected = 25.00, UDTF Model output = 25.00\n",
      "Expected = 24.00, UDTF Model output = 24.00\n",
      "Expected = 23.00, UDTF Model output = 23.00\n",
      "Expected = 22.00, UDTF Model output = 22.00\n",
      "Expected = 21.00, UDTF Model output = 21.00\n"
     ]
    }
   ],
   "source": [
    "result = SQL('SELECT * FROM table(black_scholes_udtf('\n",
    "             ' cursor(SELECT S FROM black_scholes),'\n",
    "             ' cursor(SELECT X FROM black_scholes),'\n",
    "             ' cursor(SELECT T FROM black_scholes),'\n",
    "             ' cursor(SELECT r FROM black_scholes),'\n",
    "             ' cursor(SELECT sigma FROM black_scholes),'\n",
    "             ' 1));')\n",
    "\n",
    "for expected, (output, ) in list(zip(df['OPRICE'], result))[:5]:\n",
    "    print(f'Expected = {expected:.2f}, UDTF Model output = {output:.2f}')"
   ]
  }
 ],
 "metadata": {
  "kernelspec": {
   "display_name": "Python 3",
   "language": "python",
   "name": "python3"
  },
  "language_info": {
   "codemirror_mode": {
    "name": "ipython",
    "version": 3
   },
   "file_extension": ".py",
   "mimetype": "text/x-python",
   "name": "python",
   "nbconvert_exporter": "python",
   "pygments_lexer": "ipython3",
   "version": "3.8.3"
  }
 },
 "nbformat": 4,
 "nbformat_minor": 4
}
