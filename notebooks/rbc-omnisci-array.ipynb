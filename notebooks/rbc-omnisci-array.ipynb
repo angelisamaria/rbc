{
 "cells": [
  {
   "cell_type": "code",
   "execution_count": 1,
   "metadata": {},
   "outputs": [],
   "source": [
    "from rbc.mapd import RemoteMapD"
   ]
  },
  {
   "cell_type": "code",
   "execution_count": 2,
   "metadata": {},
   "outputs": [],
   "source": [
    "omnisci = RemoteMapD()  # RemoteMapD(user=, password=, host=, port=, dbname=)"
   ]
  },
  {
   "cell_type": "code",
   "execution_count": 3,
   "metadata": {},
   "outputs": [
    {
     "data": {
      "text/plain": [
       "[([1, 2, 3, 0],),\n",
       " ([1, 2, 3, 1],),\n",
       " ([1, 2, 3, 2],),\n",
       " ([1, 2, 3, 3],),\n",
       " ([1, 2, 3, 4],)]"
      ]
     },
     "execution_count": 3,
     "metadata": {},
     "output_type": "execute_result"
    }
   ],
   "source": [
    "omnisci.sql_execute('drop table if exists mytable')\n",
    "omnisci.sql_execute('create table if not exists mytable (i INT[]);');\n",
    "for i in range(5):\n",
    "    omnisci.sql_execute('insert into mytable values (ARRAY[1,2,3,'+str(i)+'])');\n",
    "list(omnisci.sql_execute('select * from mytable')[1])"
   ]
  },
  {
   "cell_type": "code",
   "execution_count": 4,
   "metadata": {},
   "outputs": [],
   "source": [
    "@omnisci('i32(i32[])')\n",
    "def sum_i32(x):\n",
    "    s = 0\n",
    "    for i in range(len(x)):\n",
    "        s += x[i]\n",
    "    return s"
   ]
  },
  {
   "cell_type": "code",
   "execution_count": 5,
   "metadata": {},
   "outputs": [
    {
     "data": {
      "text/plain": [
       "[([1, 2, 3, 0], 6),\n",
       " ([1, 2, 3, 1], 7),\n",
       " ([1, 2, 3, 2], 8),\n",
       " ([1, 2, 3, 3], 9),\n",
       " ([1, 2, 3, 4], 10)]"
      ]
     },
     "execution_count": 5,
     "metadata": {},
     "output_type": "execute_result"
    }
   ],
   "source": [
    "descr, result = omnisci.sql_execute(\n",
    "    'select i, sum_i32(i) from mytable')\n",
    "\n",
    "list(result)"
   ]
  },
  {
   "cell_type": "code",
   "execution_count": 6,
   "metadata": {},
   "outputs": [
    {
     "data": {
      "text/plain": [
       "[([1, 2, 3, 0], 4),\n",
       " ([1, 2, 3, 1], 4),\n",
       " ([1, 2, 3, 2], 4),\n",
       " ([1, 2, 3, 3], 4),\n",
       " ([1, 2, 3, 4], 4)]"
      ]
     },
     "execution_count": 6,
     "metadata": {},
     "output_type": "execute_result"
    }
   ],
   "source": [
    "@omnisci('i32(i32[])')\n",
    "def len_i32(x):\n",
    "    return len(x)\n",
    "descr, result = omnisci.sql_execute(\n",
    "    'select i, len_i32(i) from mytable')\n",
    "\n",
    "list(result)"
   ]
  },
  {
   "cell_type": "code",
   "execution_count": 7,
   "metadata": {},
   "outputs": [
    {
     "name": "stdout",
     "output_type": "stream",
     "text": [
      "; ModuleID = 'rbc.irtools.compile_to_IR'\n",
      "source_filename = \"<string>\"\n",
      "target datalayout = \"e-m:e-i64:64-f80:128-n8:16:32:64-S128\"\n",
      "target triple = \"x86_64-unknown-linux-gnu\"\n",
      "\n",
      "; Function Attrs: norecurse nounwind readonly\n",
      "define i32 @len_i32({ i32*, i64, i8 }* nocapture readonly %.1) local_unnamed_addr #0 {\n",
      "entry:\n",
      "  %.17.i.i = getelementptr { i32*, i64, i8 }, { i32*, i64, i8 }* %.1, i64 0, i32 1\n",
      "  %.18.i.i = load i64, i64* %.17.i.i, align 8, !noalias !0\n",
      "  %.38.i = trunc i64 %.18.i.i to i32\n",
      "  ret i32 %.38.i\n",
      "}\n",
      "\n",
      "attributes #0 = { norecurse nounwind readonly }\n",
      "\n",
      "!0 = !{!1, !3}\n",
      "!1 = distinct !{!1, !2, !\"_ZN3rbc13omnisci_array14mapd_array_len12$3clocals$3e16$3clambda$3e$242E22$28STRUCT__iPLBK$29$2a: %retptr\"}\n",
      "!2 = distinct !{!2, !\"_ZN3rbc13omnisci_array14mapd_array_len12$3clocals$3e16$3clambda$3e$242E22$28STRUCT__iPLBK$29$2a\"}\n",
      "!3 = distinct !{!3, !4, !\"_ZN8__main__11len_i32$246E22$28STRUCT__iPLBK$29$2a: %retptr\"}\n",
      "!4 = distinct !{!4, !\"_ZN8__main__11len_i32$246E22$28STRUCT__iPLBK$29$2a\"}\n",
      "\n"
     ]
    }
   ],
   "source": [
    "print(len_i32.get_IR())"
   ]
  },
  {
   "cell_type": "code",
   "execution_count": null,
   "metadata": {},
   "outputs": [],
   "source": []
  },
  {
   "cell_type": "code",
   "execution_count": 8,
   "metadata": {},
   "outputs": [
    {
     "name": "stdout",
     "output_type": "stream",
     "text": [
      "define dso_local i64 @Array_getSize_i32(%struct.Array*) align 2 {\n",
      "  %2 = alloca %struct.Array*, align 8\n",
      "  store %struct.Array* %0, %struct.Array** %2, align 8\n",
      "  %3 = load %struct.Array*, %struct.Array** %2, align 8\n",
      "  %4 = getelementptr inbounds %struct.Array, %struct.Array* %3, i32 0, i32 1\n",
      "  %5 = load i64, i64* %4, align 8\n",
      "  ret i64 %5\n",
      "}\n",
      "\n"
     ]
    }
   ],
   "source": [
    "Array_getSize_i32_ir = '''\\\n",
    "define dso_local i64 @Array_getSize_i32(%struct.Array*) align 2 {\n",
    "  %2 = alloca %struct.Array*, align 8\n",
    "  store %struct.Array* %0, %struct.Array** %2, align 8\n",
    "  %3 = load %struct.Array*, %struct.Array** %2, align 8\n",
    "  %4 = getelementptr inbounds %struct.Array, %struct.Array* %3, i32 0, i32 1\n",
    "  %5 = load i64, i64* %4, align 8\n",
    "  ret i64 %5\n",
    "}\n",
    "'''\n",
    "print(Array_getSize_i32_ir)"
   ]
  },
  {
   "cell_type": "code",
   "execution_count": null,
   "metadata": {},
   "outputs": [],
   "source": []
  }
 ],
 "metadata": {
  "kernelspec": {
   "display_name": "Python [conda env:rbc-dev] *",
   "language": "python",
   "name": "conda-env-rbc-dev-py"
  },
  "language_info": {
   "codemirror_mode": {
    "name": "ipython",
    "version": 3
   },
   "file_extension": ".py",
   "mimetype": "text/x-python",
   "name": "python",
   "nbconvert_exporter": "python",
   "pygments_lexer": "ipython3",
   "version": "3.7.3"
  }
 },
 "nbformat": 4,
 "nbformat_minor": 2
}
