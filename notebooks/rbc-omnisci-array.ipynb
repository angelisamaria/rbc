{
 "cells": [
  {
   "cell_type": "code",
   "execution_count": 1,
   "metadata": {},
   "outputs": [],
   "source": [
    "from rbc.mapd import RemoteMapD"
   ]
  },
  {
   "cell_type": "code",
   "execution_count": 2,
   "metadata": {},
   "outputs": [],
   "source": [
    "omnisci = RemoteMapD()  # RemoteMapD(user=, password=, host=, port=, dbname=)"
   ]
  },
  {
   "cell_type": "code",
   "execution_count": 3,
   "metadata": {},
   "outputs": [
    {
     "data": {
      "text/plain": [
       "[([1, 2, 3, 0],),\n",
       " ([1, 2, 3, 1],),\n",
       " ([1, 2, 3, 2],),\n",
       " ([1, 2, 3, 3],),\n",
       " ([1, 2, 3, 4],)]"
      ]
     },
     "execution_count": 3,
     "metadata": {},
     "output_type": "execute_result"
    }
   ],
   "source": [
    "omnisci.sql_execute('drop table if exists mytable')\n",
    "omnisci.sql_execute('create table if not exists mytable (i INT[]);');\n",
    "for i in range(5):\n",
    "    omnisci.sql_execute('insert into mytable values (ARRAY[1,2,3,'+str(i)+'])');\n",
    "list(omnisci.sql_execute('select * from mytable')[1])"
   ]
  },
  {
   "cell_type": "code",
   "execution_count": 4,
   "metadata": {},
   "outputs": [],
   "source": [
    "@omnisci('i32(i32[])')\n",
    "def sum_i32(x):\n",
    "    s = 0\n",
    "    for i in range(len(x)):\n",
    "        s += x[i]\n",
    "    return s"
   ]
  },
  {
   "cell_type": "code",
   "execution_count": 6,
   "metadata": {},
   "outputs": [
    {
     "data": {
      "text/plain": [
       "[([1, 2, 3, 0], 6),\n",
       " ([1, 2, 3, 1], 7),\n",
       " ([1, 2, 3, 2], 8),\n",
       " ([1, 2, 3, 3], 9),\n",
       " ([1, 2, 3, 4], 10)]"
      ]
     },
     "execution_count": 6,
     "metadata": {},
     "output_type": "execute_result"
    }
   ],
   "source": [
    "descr, result = omnisci.sql_execute(\n",
    "    'select i, sum_i32(i) from mytable')\n",
    "\n",
    "list(result)"
   ]
  },
  {
   "cell_type": "code",
   "execution_count": null,
   "metadata": {},
   "outputs": [],
   "source": []
  }
 ],
 "metadata": {
  "kernelspec": {
   "display_name": "Python [conda env:rbc-dev] *",
   "language": "python",
   "name": "conda-env-rbc-dev-py"
  },
  "language_info": {
   "codemirror_mode": {
    "name": "ipython",
    "version": 3
   },
   "file_extension": ".py",
   "mimetype": "text/x-python",
   "name": "python",
   "nbconvert_exporter": "python",
   "pygments_lexer": "ipython3",
   "version": "3.7.3"
  }
 },
 "nbformat": 4,
 "nbformat_minor": 2
}
