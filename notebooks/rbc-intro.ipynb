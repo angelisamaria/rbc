{
 "cells": [
  {
   "cell_type": "markdown",
   "metadata": {
    "slideshow": {
     "slide_type": "subslide"
    }
   },
   "source": [
    "# Remote Backend Compiler - RBC\n",
    "*by Pearu Peterson*\n",
    "\n",
    "## Statement of the problem\n",
    "\n",
    "*Compile and run user-defined functions in a language-agnostic JIT enabled program semi-remotely.*\n",
    "\n",
    "### Semi-remote compilation\n",
    "\n",
    "- *compiler frontend*: user-written source code is parsed and transformed to LLVM IR in client program\n",
    "- the client program sends the LLVM IR over network to a server program\n",
    "- *compiler backend*: the server program compiles the LLVM IR to machine code (that can be executed on the server CPU or GPU devices)\n",
    "\n",
    "### Constraints\n",
    "\n",
    "- A user-defined function is defined as Python or C/C++ (or any other language with LLVM tools) program\n",
    "- Client host can run on a 32- or 64-bit OS: Linux, MacOSX, Windows\n",
    "- Server host runs on 64-bit Linux\n",
    "\n",
    "## Solution\n",
    "\n",
    "- *Remote Backend Compiler - RBC*: https://github.com/xnd-project/rbc\n",
    "- A Python-to-Python prototype uses Numba for LLVM IR generation and Numba llvmlite for machine code compilation\n",
    "- A Python-to-SQL application uses Numba for LLVM IR generation and OmniSciDB for machine code compilation\n",
    "  * OmniSciDB is a GPU enabled SQL database server\n",
    "  * OmniSciDB uses LLVM Compiler C++ library for JIT compilation\n",
    "  * https://www.omnisci.com/\n",
    "\n",
    "# Demo of the prototype\n",
    "\n",
    "1. Start server\n",
    "\n",
    "  ```python\n",
    "  import rbc\n",
    "  rbc.RemoteJIT(host='localhost', port=7890).start_server()\n",
    "  ```\n",
    "\n",
    "\n",
    "2. Client example program"
   ]
  },
  {
   "cell_type": "code",
   "execution_count": null,
   "metadata": {},
   "outputs": [],
   "source": [
    "from rbc import RemoteJIT\n",
    "rjit = RemoteJIT(host='localhost', port=7890)"
   ]
  },
  {
   "cell_type": "code",
   "execution_count": null,
   "metadata": {},
   "outputs": [],
   "source": [
    "# A user-defined function\n",
    "@rjit('int64(int64, int64)')\n",
    "def add(a, b):\n",
    "    return a + b"
   ]
  },
  {
   "cell_type": "code",
   "execution_count": null,
   "metadata": {},
   "outputs": [],
   "source": [
    "print(add)"
   ]
  },
  {
   "cell_type": "code",
   "execution_count": null,
   "metadata": {},
   "outputs": [],
   "source": [
    "add(1, 3)"
   ]
  },
  {
   "cell_type": "code",
   "execution_count": null,
   "metadata": {},
   "outputs": [],
   "source": [
    "add(2, 4)"
   ]
  },
  {
   "cell_type": "code",
   "execution_count": null,
   "metadata": {},
   "outputs": [],
   "source": [
    "try:\n",
    "    add(1.2, 3.4)\n",
    "except Exception as msg:\n",
    "    print(msg)"
   ]
  },
  {
   "cell_type": "code",
   "execution_count": null,
   "metadata": {},
   "outputs": [],
   "source": [
    "add.signature('double(double, double)')\n",
    "add.signature('complex128(complex128, complex128)');"
   ]
  },
  {
   "cell_type": "code",
   "execution_count": null,
   "metadata": {},
   "outputs": [],
   "source": [
    "add(1, 3.4j)"
   ]
  },
  {
   "cell_type": "code",
   "execution_count": null,
   "metadata": {},
   "outputs": [],
   "source": [
    "add(1.2, 2)"
   ]
  },
  {
   "cell_type": "markdown",
   "metadata": {},
   "source": [
    "# Demo of the application\n",
    "\n",
    "Guilherme..."
   ]
  },
  {
   "cell_type": "code",
   "execution_count": null,
   "metadata": {},
   "outputs": [],
   "source": []
  }
 ],
 "metadata": {
  "kernelspec": {
   "display_name": "Python [conda env:rbc-dev] *",
   "language": "python",
   "name": "conda-env-rbc-dev-py"
  },
  "language_info": {
   "codemirror_mode": {
    "name": "ipython",
    "version": 3
   },
   "file_extension": ".py",
   "mimetype": "text/x-python",
   "name": "python",
   "nbconvert_exporter": "python",
   "pygments_lexer": "ipython3",
   "version": "3.7.3"
  }
 },
 "nbformat": 4,
 "nbformat_minor": 4
}
