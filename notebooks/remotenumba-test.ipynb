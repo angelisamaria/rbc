{
 "cells": [
  {
   "cell_type": "code",
   "execution_count": 12,
   "metadata": {},
   "outputs": [],
   "source": [
    "import numba as nb\n",
    "import remotenumba as rnb"
   ]
  },
  {
   "cell_type": "markdown",
   "metadata": {},
   "source": [
    "## Define a function and its signatures"
   ]
  },
  {
   "cell_type": "code",
   "execution_count": 13,
   "metadata": {},
   "outputs": [],
   "source": [
    "def foo(a, b):\n",
    "    return a + b"
   ]
  },
  {
   "cell_type": "code",
   "execution_count": 18,
   "metadata": {},
   "outputs": [],
   "source": [
    "foo_sig = dict(\n",
    "    ifoo = nb.int64(nb.int64, nb.int64),\n",
    "    dfoo = nb.float64(nb.float64, nb.float64),\n",
    ")"
   ]
  },
  {
   "cell_type": "markdown",
   "metadata": {},
   "source": [
    "## Generate LLVM IR strings"
   ]
  },
  {
   "cell_type": "code",
   "execution_count": 19,
   "metadata": {},
   "outputs": [],
   "source": [
    "foo_ir = rnb.get_llvm_ir(foo, foo_sig, target='host')\n",
    "\n",
    "foo_ir_cuda = rnb.get_llvm_ir(foo, foo_sig, target='cuda')"
   ]
  },
  {
   "cell_type": "code",
   "execution_count": 23,
   "metadata": {},
   "outputs": [
    {
     "name": "stdout",
     "output_type": "stream",
     "text": [
      "; ModuleID = 'foo'\n",
      "source_filename = \"<ipython-input-13-89a95242c6a7>\"\n",
      "target datalayout = \"e-m:e-i64:64-f80:128-n8:16:32:64-S128\"\n",
      "target triple = \"x86_64-unknown-linux-gnu\"\n",
      "\n",
      "@\"_ZN08NumbaEnv8__main__8foo$2411Exx\" = common local_unnamed_addr global i8* null\n",
      "@\"_ZN08NumbaEnv8__main__8foo$2412Edd\" = common local_unnamed_addr global i8* null\n",
      "\n",
      "; Function Attrs: norecurse nounwind\n",
      "define i32 @\"_ZN8__main__8foo$2411Exx\"(i64* noalias nocapture %retptr, { i8*, i32 }** noalias nocapture readnone %excinfo, i64 %arg.a, i64 %arg.b) local_unnamed_addr #0 {\n",
      "entry:\n",
      "  %.16 = add nsw i64 %arg.b, %arg.a\n",
      "  store i64 %.16, i64* %retptr, align 8\n",
      "  ret i32 0\n",
      "}\n",
      "\n",
      "; Function Attrs: norecurse nounwind readnone\n",
      "define i64 @ifoo(i64 %.1, i64 %.2) local_unnamed_addr #1 {\n",
      "entry:\n",
      "  %.16.i = add nsw i64 %.2, %.1\n",
      "  ret i64 %.16.i\n",
      "}\n",
      "\n",
      "; Function Attrs: norecurse nounwind\n",
      "define i32 @\"_ZN8__main__8foo$2412Edd\"(double* noalias nocapture %retptr, { i8*, i32 }** noalias nocapture readnone %excinfo, double %arg.a, double %arg.b) local_unnamed_addr #0 {\n",
      "entry:\n",
      "  %.16 = fadd double %arg.a, %arg.b\n",
      "  store double %.16, double* %retptr, align 8\n",
      "  ret i32 0\n",
      "}\n",
      "\n",
      "; Function Attrs: norecurse nounwind readnone\n",
      "define double @dfoo(double %.1, double %.2) local_unnamed_addr #1 {\n",
      "entry:\n",
      "  %.16.i = fadd double %.1, %.2\n",
      "  ret double %.16.i\n",
      "}\n",
      "\n",
      "attributes #0 = { norecurse nounwind }\n",
      "attributes #1 = { norecurse nounwind readnone }\n",
      "\n"
     ]
    }
   ],
   "source": [
    "print(foo_ir)"
   ]
  },
  {
   "cell_type": "code",
   "execution_count": null,
   "metadata": {},
   "outputs": [],
   "source": [
    "#print(foo_ir_cuda)"
   ]
  },
  {
   "cell_type": "markdown",
   "metadata": {},
   "source": [
    "## Compile LLVM IR to machine code - host"
   ]
  },
  {
   "cell_type": "code",
   "execution_count": 20,
   "metadata": {},
   "outputs": [],
   "source": [
    "eng = rnb.compile(foo_ir)"
   ]
  },
  {
   "cell_type": "markdown",
   "metadata": {},
   "source": [
    "## Call the functions using cfuncs"
   ]
  },
  {
   "cell_type": "code",
   "execution_count": 21,
   "metadata": {},
   "outputs": [],
   "source": [
    "from ctypes import CFUNCTYPE, c_double, c_int\n",
    "ifoo = CFUNCTYPE(c_int, c_int, c_int)(eng.get_function_address('ifoo'))\n",
    "dfoo = CFUNCTYPE(c_double, c_double, c_double)(eng.get_function_address('dfoo'))"
   ]
  },
  {
   "cell_type": "code",
   "execution_count": 22,
   "metadata": {},
   "outputs": [
    {
     "data": {
      "text/plain": [
       "(3, 5.4)"
      ]
     },
     "execution_count": 22,
     "metadata": {},
     "output_type": "execute_result"
    }
   ],
   "source": [
    "ifoo(1,2), dfoo(3.4, 2)"
   ]
  }
 ],
 "metadata": {
  "kernelspec": {
   "display_name": "Environment (conda_remote-numba-dev)",
   "language": "python",
   "name": "conda_remote-numba-dev"
  },
  "language_info": {
   "codemirror_mode": {
    "name": "ipython",
    "version": 3
   },
   "file_extension": ".py",
   "mimetype": "text/x-python",
   "name": "python",
   "nbconvert_exporter": "python",
   "pygments_lexer": "ipython3",
   "version": "3.7.1"
  }
 },
 "nbformat": 4,
 "nbformat_minor": 2
}
