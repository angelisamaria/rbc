{
 "cells": [
  {
   "cell_type": "code",
   "execution_count": 1,
   "metadata": {},
   "outputs": [],
   "source": [
    "import numba as nb\n",
    "import rbc as rnb"
   ]
  },
  {
   "cell_type": "markdown",
   "metadata": {},
   "source": [
    "## Define a function and its signatures"
   ]
  },
  {
   "cell_type": "code",
   "execution_count": 2,
   "metadata": {},
   "outputs": [],
   "source": [
    "def foo(a, b):\n",
    "    return a + b"
   ]
  },
  {
   "cell_type": "code",
   "execution_count": 3,
   "metadata": {},
   "outputs": [],
   "source": [
    "foo_sig = dict(\n",
    "    ifoo = nb.int64(nb.int64, nb.int64),\n",
    "    dfoo = nb.float64(nb.float64, nb.float64),\n",
    ")"
   ]
  },
  {
   "cell_type": "markdown",
   "metadata": {},
   "source": [
    "## Generate LLVM IR strings"
   ]
  },
  {
   "cell_type": "code",
   "execution_count": 4,
   "metadata": {},
   "outputs": [],
   "source": [
    "foo_ir = rnb.get_llvm_ir(foo, foo_sig, target='host')\n",
    "\n",
    "foo_ir_cuda = rnb.get_llvm_ir(foo, foo_sig, target='cuda')"
   ]
  },
  {
   "cell_type": "code",
   "execution_count": 5,
   "metadata": {},
   "outputs": [
    {
     "name": "stdout",
     "output_type": "stream",
     "text": [
      "; ModuleID = 'foo'\n",
      "source_filename = \"<ipython-input-2-89a95242c6a7>\"\n",
      "target datalayout = \"e-m:o-i64:64-f80:128-n8:16:32:64-S128\"\n",
      "target triple = \"x86_64-apple-darwin19.0.0\"\n",
      "\n",
      "@\"_ZN08NumbaEnv8__main__7foo$241Exx\" = common local_unnamed_addr global i8* null\n",
      "@\"_ZN08NumbaEnv8__main__7foo$242Edd\" = common local_unnamed_addr global i8* null\n",
      "\n",
      "; Function Attrs: norecurse nounwind writeonly\n",
      "define i32 @\"_ZN8__main__7foo$241Exx\"(i64* noalias nocapture %retptr, { i8*, i32 }** noalias nocapture readnone %excinfo, i64 %arg.a, i64 %arg.b) local_unnamed_addr #0 {\n",
      "entry:\n",
      "  %.14 = add nsw i64 %arg.b, %arg.a\n",
      "  store i64 %.14, i64* %retptr, align 8\n",
      "  ret i32 0\n",
      "}\n",
      "\n",
      "; Function Attrs: norecurse nounwind readnone\n",
      "define i64 @ifoo(i64 %.1, i64 %.2) local_unnamed_addr #1 {\n",
      "entry:\n",
      "  %.14.i = add nsw i64 %.2, %.1\n",
      "  ret i64 %.14.i\n",
      "}\n",
      "\n",
      "; Function Attrs: norecurse nounwind writeonly\n",
      "define i32 @\"_ZN8__main__7foo$242Edd\"(double* noalias nocapture %retptr, { i8*, i32 }** noalias nocapture readnone %excinfo, double %arg.a, double %arg.b) local_unnamed_addr #0 {\n",
      "entry:\n",
      "  %.14 = fadd double %arg.a, %arg.b\n",
      "  store double %.14, double* %retptr, align 8\n",
      "  ret i32 0\n",
      "}\n",
      "\n",
      "; Function Attrs: norecurse nounwind readnone\n",
      "define double @dfoo(double %.1, double %.2) local_unnamed_addr #1 {\n",
      "entry:\n",
      "  %.14.i = fadd double %.1, %.2\n",
      "  ret double %.14.i\n",
      "}\n",
      "\n",
      "attributes #0 = { norecurse nounwind writeonly }\n",
      "attributes #1 = { norecurse nounwind readnone }\n",
      "\n"
     ]
    }
   ],
   "source": [
    "print(foo_ir)"
   ]
  },
  {
   "cell_type": "code",
   "execution_count": 6,
   "metadata": {},
   "outputs": [
    {
     "name": "stdout",
     "output_type": "stream",
     "text": [
      "; ModuleID = 'foo'\n",
      "source_filename = \"<ipython-input-2-89a95242c6a7>\"\n",
      "target datalayout = \"e-p:64:64:64-i1:8:8-i8:8:8-i16:16:16-i32:32:32-i64:64:64-f32:32:32-f64:64:64-v16:16:16-v32:32:32-v64:64:64-v128:128:128-n16:32:64\"\n",
      "target triple = \"nvptx64-nvidia-cuda\"\n",
      "\n",
      "@\"_ZN08NumbaEnv8__main__7foo$243Exx\" = common local_unnamed_addr global i8* null\n",
      "@\"_ZN08NumbaEnv8__main__7foo$244Edd\" = common local_unnamed_addr global i8* null\n",
      "\n",
      "; Function Attrs: norecurse nounwind writeonly\n",
      "define i32 @\"_ZN8__main__7foo$243Exx\"(i64* nocapture %.ret, i64 %arg.a, i64 %arg.b) local_unnamed_addr #0 {\n",
      "entry:\n",
      "  %.13 = add nsw i64 %arg.b, %arg.a\n",
      "  store i64 %.13, i64* %.ret, align 8\n",
      "  ret i32 0\n",
      "}\n",
      "\n",
      "; Function Attrs: norecurse nounwind writeonly\n",
      "define i64 @ifoo(i64 %.1, i64 %.2) local_unnamed_addr #0 {\n",
      "entry:\n",
      "  %.4 = alloca i64, align 8\n",
      "  store i64 0, i64* %.4, align 8\n",
      "  %.7 = call i32 @\"_ZN8__main__7foo$243Exx\"(i64* nonnull %.4, i64 %.1, i64 %.2)\n",
      "  %.15 = load i64, i64* %.4, align 8\n",
      "  ret i64 %.15\n",
      "}\n",
      "\n",
      "; Function Attrs: norecurse nounwind writeonly\n",
      "define i32 @\"_ZN8__main__7foo$244Edd\"(double* nocapture %.ret, double %arg.a, double %arg.b) local_unnamed_addr #0 {\n",
      "entry:\n",
      "  %.13 = fadd double %arg.a, %arg.b\n",
      "  store double %.13, double* %.ret, align 8\n",
      "  ret i32 0\n",
      "}\n",
      "\n",
      "; Function Attrs: norecurse nounwind writeonly\n",
      "define double @dfoo(double %.1, double %.2) local_unnamed_addr #0 {\n",
      "entry:\n",
      "  %.4 = alloca double, align 8\n",
      "  store double 0.000000e+00, double* %.4, align 8\n",
      "  %.7 = call i32 @\"_ZN8__main__7foo$244Edd\"(double* nonnull %.4, double %.1, double %.2)\n",
      "  %.15 = load double, double* %.4, align 8\n",
      "  ret double %.15\n",
      "}\n",
      "\n",
      "attributes #0 = { norecurse nounwind writeonly }\n",
      "\n"
     ]
    }
   ],
   "source": [
    "print(foo_ir_cuda)"
   ]
  },
  {
   "cell_type": "markdown",
   "metadata": {},
   "source": [
    "## Compile LLVM IR to machine code - host"
   ]
  },
  {
   "cell_type": "code",
   "execution_count": 7,
   "metadata": {},
   "outputs": [],
   "source": [
    "eng = rnb.compile(foo_ir)"
   ]
  },
  {
   "cell_type": "markdown",
   "metadata": {},
   "source": [
    "## Call the functions using cfuncs"
   ]
  },
  {
   "cell_type": "code",
   "execution_count": 8,
   "metadata": {},
   "outputs": [],
   "source": [
    "from ctypes import CFUNCTYPE, c_double, c_int\n",
    "ifoo = CFUNCTYPE(c_int, c_int, c_int)(eng.get_function_address('ifoo'))\n",
    "dfoo = CFUNCTYPE(c_double, c_double, c_double)(eng.get_function_address('dfoo'))"
   ]
  },
  {
   "cell_type": "code",
   "execution_count": 9,
   "metadata": {},
   "outputs": [
    {
     "data": {
      "text/plain": [
       "(3, 5.4)"
      ]
     },
     "execution_count": 9,
     "metadata": {},
     "output_type": "execute_result"
    }
   ],
   "source": [
    "ifoo(1,2), dfoo(3.4, 2)"
   ]
  }
 ],
 "metadata": {
  "kernelspec": {
   "display_name": "Python 3",
   "language": "python",
   "name": "python3"
  },
  "language_info": {
   "codemirror_mode": {
    "name": "ipython",
    "version": 3
   },
   "file_extension": ".py",
   "mimetype": "text/x-python",
   "name": "python",
   "nbconvert_exporter": "python",
   "pygments_lexer": "ipython3",
   "version": "3.8.1"
  }
 },
 "nbformat": 4,
 "nbformat_minor": 4
}
