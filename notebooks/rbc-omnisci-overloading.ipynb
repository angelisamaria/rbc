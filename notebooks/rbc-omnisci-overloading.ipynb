{
 "cells": [
  {
   "cell_type": "code",
   "execution_count": 2,
   "metadata": {},
   "outputs": [],
   "source": [
    "from rbc.omniscidb import RemoteOmnisci"
   ]
  },
  {
   "cell_type": "code",
   "execution_count": 3,
   "metadata": {},
   "outputs": [],
   "source": [
    "omni = RemoteOmnisci()  # RemoteOmnisci(user=, password=, host=, port=, dbname=)"
   ]
  },
  {
   "cell_type": "code",
   "execution_count": 4,
   "metadata": {},
   "outputs": [],
   "source": [
    "omni.sql_execute('drop table if exists mytable')\n",
    "omni.sql_execute('create table if not exists mytable (x FLOAT, y DOUBLE, i INT, j BIGINT);');\n",
    "for i in range(5):\n",
    "    omni.sql_execute('insert into mytable values '+str((i,)*4));"
   ]
  },
  {
   "cell_type": "code",
   "execution_count": 5,
   "metadata": {},
   "outputs": [],
   "source": [
    "# Overloading UDFs\n",
    "@omni('f32(f32)', 'f64(f64)')\n",
    "def incr(v):\n",
    "    return v + 1\n",
    "@omni('i32(i32)', 'i64(i64)')\n",
    "def incr(v):\n",
    "    return v + 10"
   ]
  },
  {
   "cell_type": "code",
   "execution_count": 6,
   "metadata": {},
   "outputs": [
    {
     "data": {
      "text/plain": [
       "[(1.0, 2.0, 10, 20),\n",
       " (2.0, 3.0, 11, 21),\n",
       " (3.0, 4.0, 12, 22),\n",
       " (4.0, 5.0, 13, 23),\n",
       " (5.0, 6.0, 14, 24)]"
      ]
     },
     "execution_count": 6,
     "metadata": {},
     "output_type": "execute_result"
    }
   ],
   "source": [
    "descr, result = omni.sql_execute(\n",
    "    'select incr(x), incr(incr(y)), incr(i), incr(incr(j))'\n",
    "    'from mytable')\n",
    "\n",
    "list(result)"
   ]
  },
  {
   "cell_type": "code",
   "execution_count": null,
   "metadata": {},
   "outputs": [],
   "source": []
  }
 ],
 "metadata": {
  "kernelspec": {
   "display_name": "Python 3",
   "language": "python",
   "name": "python3"
  },
  "language_info": {
   "codemirror_mode": {
    "name": "ipython",
    "version": 3
   },
   "file_extension": ".py",
   "mimetype": "text/x-python",
   "name": "python",
   "nbconvert_exporter": "python",
   "pygments_lexer": "ipython3",
   "version": "3.8.1"
  }
 },
 "nbformat": 4,
 "nbformat_minor": 4
}
